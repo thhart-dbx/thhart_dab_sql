{
 "cells": [
  {
   "cell_type": "markdown",
   "metadata": {
    "application/vnd.databricks.v1+cell": {
     "cellMetadata": {},
     "inputWidgets": {},
     "nuid": "441a7eb1-5f94-4b68-9576-82cc46da4a74",
     "showTitle": false,
     "tableResultSettingsMap": {},
     "title": ""
    }
   },
   "source": [
    "## DABs from the Ground Up"
   ]
  },
  {
   "cell_type": "markdown",
   "metadata": {
    "application/vnd.databricks.v1+cell": {
     "cellMetadata": {
      "byteLimit": 2048000,
      "implicitDf": true,
      "rowLimit": 10000
     },
     "inputWidgets": {},
     "nuid": "e187db23-9627-4042-95b7-cef09c01d5ae",
     "showTitle": false,
     "tableResultSettingsMap": {},
     "title": ""
    }
   },
   "source": [
    "### 1. Create a `databricks.yml` file\n",
    "```yaml\n",
    "bundle:\n",
    "  name: thhart_dab_sql\n",
    "\n",
    "# specify variables but do not assign values\n",
    "variables:\n",
    "  warehouse_id: \n",
    "    description: The warehouse to use\n",
    "  catalog: \n",
    "    description: The catalog to use\n",
    "  schema:\n",
    "    description: The schema to use\n",
    "\n",
    "# specify variables values in targets\n",
    "targets:\n",
    "  \n",
    "  # where do we want to develop\n",
    "  thhart_target_dev:\n",
    "    mode: development\n",
    "    default: true\n",
    "    workspace: \n",
    "      host: https://adb-984752964297111.11.azuredatabricks.net\n",
    "    variables:\n",
    "      warehouse_id: 148ccb90800933a1\n",
    "      catalog: thhart\n",
    "      schema: dab_sql_dev\n",
    "  \n",
    "  # where do we want to run in production\n",
    "  thhart_target_prod:\n",
    "    mode: production\n",
    "    workspace: \n",
    "      host: https://adb-984752964297111.11.azuredatabricks.net\n",
    "    variables:\n",
    "      warehouse_id: 148ccb90800933a1\n",
    "      catalog: thhart\n",
    "      schema: dab_sql_prod\n",
    "```"
   ]
  },
  {
   "cell_type": "code",
   "execution_count": 0,
   "metadata": {
    "application/vnd.databricks.v1+cell": {
     "cellMetadata": {},
     "inputWidgets": {},
     "nuid": "823d9daa-c808-4b32-85c6-5aedd9f83530",
     "showTitle": true,
     "tableResultSettingsMap": {},
     "title": "Create Schemas"
    }
   },
   "outputs": [],
   "source": [
    "%sql \n",
    "create schema thhart.dab_sql_dev;\n",
    "create schema thhart.dab_sql_prod;"
   ]
  },
  {
   "cell_type": "markdown",
   "metadata": {
    "application/vnd.databricks.v1+cell": {
     "cellMetadata": {},
     "inputWidgets": {},
     "nuid": "8d979ead-5345-4e71-87fc-90dd2545911a",
     "showTitle": false,
     "tableResultSettingsMap": {},
     "title": ""
    }
   },
   "source": [
    "### 2. Explore Data"
   ]
  },
  {
   "cell_type": "code",
   "execution_count": 0,
   "metadata": {
    "application/vnd.databricks.v1+cell": {
     "cellMetadata": {
      "byteLimit": 2048000,
      "implicitDf": true,
      "rowLimit": 10000
     },
     "inputWidgets": {},
     "nuid": "c88ccc85-cdae-4617-b812-76f1cfe4536a",
     "showTitle": true,
     "tableResultSettingsMap": {},
     "title": "View Files"
    }
   },
   "outputs": [],
   "source": [
    "%sql list '/databricks-datasets/retail-org/sales_orders'"
   ]
  },
  {
   "cell_type": "code",
   "execution_count": 0,
   "metadata": {
    "application/vnd.databricks.v1+cell": {
     "cellMetadata": {
      "byteLimit": 2048000,
      "implicitDf": true,
      "rowLimit": 10000
     },
     "inputWidgets": {},
     "nuid": "fb6b7083-63f4-423d-b56c-bb315e47cb55",
     "showTitle": true,
     "tableResultSettingsMap": {},
     "title": "Visualize Data"
    }
   },
   "outputs": [],
   "source": [
    "%sql\n",
    "select * \n",
    "from read_files(\n",
    "  '/databricks-datasets/retail-org/sales_orders'\n",
    "  , format => 'json'\n",
    "  , header => true\n",
    ")\n",
    "limit 5"
   ]
  },
  {
   "cell_type": "markdown",
   "metadata": {
    "application/vnd.databricks.v1+cell": {
     "cellMetadata": {},
     "inputWidgets": {},
     "nuid": "022fdbcd-4a75-4c01-8560-ff546b09c234",
     "showTitle": false,
     "tableResultSettingsMap": {},
     "title": ""
    }
   },
   "source": [
    "### 3. Create Logic"
   ]
  },
  {
   "cell_type": "code",
   "execution_count": 0,
   "metadata": {
    "application/vnd.databricks.v1+cell": {
     "cellMetadata": {
      "byteLimit": 2048000,
      "implicitDf": true,
      "rowLimit": 10000
     },
     "inputWidgets": {},
     "nuid": "e12ef713-6c02-43a6-aa2a-cdca4786fd87",
     "showTitle": true,
     "tableResultSettingsMap": {},
     "title": "ETL: Orders"
    }
   },
   "outputs": [],
   "source": [
    "%sql\n",
    "select \n",
    "  customer_id\n",
    "  , order_number\n",
    "  , from_unixtime(order_datetime::bigint) as order_datetime\n",
    "from read_files(\n",
    "  '/databricks-datasets/retail-org/sales_orders'\n",
    "  , format => 'json'\n",
    "  , header => true\n",
    ")\n",
    "limit 5"
   ]
  },
  {
   "cell_type": "code",
   "execution_count": 0,
   "metadata": {
    "application/vnd.databricks.v1+cell": {
     "cellMetadata": {
      "byteLimit": 2048000,
      "implicitDf": true,
      "rowLimit": 10000
     },
     "inputWidgets": {},
     "nuid": "9def2366-093b-4bd5-8bed-d4dec5e4ff6a",
     "showTitle": true,
     "tableResultSettingsMap": {},
     "title": "Agg: Orders by Day"
    }
   },
   "outputs": [],
   "source": [
    "%sql\n",
    "with cte as (\n",
    "-- orders\n",
    "select \n",
    "  customer_id\n",
    "  , order_number\n",
    "  , from_unixtime(order_datetime::bigint) as order_datetime\n",
    "from read_files(\n",
    "  '/databricks-datasets/retail-org/sales_orders'\n",
    "  , format => 'json'\n",
    "  , header => true\n",
    "))\n",
    "\n",
    "-- orders daily\n",
    "select \n",
    "  order_datetime::date as order_date\n",
    "  , count(*) as n_orders\n",
    "from cte\n",
    "group by order_datetime::date\n",
    "limit 5"
   ]
  },
  {
   "cell_type": "markdown",
   "metadata": {
    "application/vnd.databricks.v1+cell": {
     "cellMetadata": {},
     "inputWidgets": {},
     "nuid": "db408df9-5ba2-4a3c-a937-e9a706220bb7",
     "showTitle": false,
     "tableResultSettingsMap": {},
     "title": ""
    }
   },
   "source": [
    "### 4. Link SQL Together\n",
    "Two way to achieve this\n",
    "* Use interface to create a job and copy yaml\n",
    "* Write yaml \n",
    "* Jobs\n",
    "```yaml\n",
    "resources:\n",
    "  jobs:\n",
    "    thhart_dab_sql_job_yml:\n",
    "      name: thhart_dab_sql_job_yml\n",
    "\n",
    "      trigger:\n",
    "          interval: 1\n",
    "          unit: DAYS\n",
    "      \n",
    "      email_notifications:\n",
    "        on_failure:\n",
    "          - thomas.hart@databricks.com\n",
    "\n",
    "      parameters:\n",
    "        - name: thhart_catalog\n",
    "          default: ${var.thhart_catalog}\n",
    "        - name: thhart_schema\n",
    "          default: ${var.thhart_schema}\n",
    "        - name: bundle_target\n",
    "          default: ${bundle.target}\n",
    "\n",
    "      tasks:\n",
    "        - task_key: orders_raw\n",
    "          sql_task:\n",
    "            warehouse_id: ${var.warehouse_id}\n",
    "            file:\n",
    "              path: ./orders_raw.sql\n",
    "\n",
    "        - task_key: orders_daily\n",
    "          depends_on:\n",
    "            - task_key: orders_raw\n",
    "          sql_task:\n",
    "            warehouse_id: ${var.warehouse_id}\n",
    "            file:\n",
    "              path: ./orders_daily.sql\n",
    "```"
   ]
  },
  {
   "cell_type": "markdown",
   "metadata": {
    "application/vnd.databricks.v1+cell": {
     "cellMetadata": {},
     "inputWidgets": {},
     "nuid": "b4490968-80ff-4d6d-8a3f-675d683531c9",
     "showTitle": false,
     "tableResultSettingsMap": {},
     "title": ""
    }
   },
   "source": [
    "### Deploy"
   ]
  }
 ],
 "metadata": {
  "application/vnd.databricks.v1+notebook": {
   "computePreferences": null,
   "dashboards": [],
   "environmentMetadata": {
    "base_environment": "",
    "environment_version": "2"
   },
   "inputWidgetPreferences": null,
   "language": "python",
   "notebookMetadata": {
    "mostRecentlyExecutedCommandWithImplicitDF": {
     "commandId": 3233564153364054,
     "dataframes": [
      "_sqldf"
     ]
    },
    "pythonIndentUnit": 2
   },
   "notebookName": "Readme",
   "widgets": {}
  },
  "language_info": {
   "name": "python"
  }
 },
 "nbformat": 4,
 "nbformat_minor": 0
}
